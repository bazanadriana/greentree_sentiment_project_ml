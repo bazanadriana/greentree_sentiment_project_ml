{
 "cells": [
  {
   "cell_type": "markdown",
   "id": "53f69d85",
   "metadata": {},
   "source": [
    "# Greentree LLM Assessment — End-to-End Notebook\n",
    "Loads `.env`, reads dataset (Excel or CSV), runs pipeline steps, and shows quick views."
   ]
  },
  {
   "cell_type": "code",
   "execution_count": null,
   "id": "697db41e",
   "metadata": {},
   "outputs": [],
   "source": [
    "%pip -q install -r requirements.txt ipywidgets python-dotenv"
   ]
  },
  {
   "cell_type": "markdown",
   "id": "40b7615f",
   "metadata": {},
   "source": [
    "## 1) Load data via `.env`"
   ]
  },
  {
   "cell_type": "code",
   "execution_count": null,
   "id": "1a29de7d",
   "metadata": {},
   "outputs": [],
   "source": [
    "import os, pandas as pd\n",
    "from dotenv import load_dotenv\n",
    "load_dotenv(override=True)\n",
    "\n",
    "data_path = os.getenv(\"DATA_PATH\")\n",
    "print(\"DATA_PATH =\", data_path)\n",
    "if not data_path:\n",
    "    raise ValueError(\"DATA_PATH not set. Edit your .env.\")\n",
    "\n",
    "if data_path.lower().endswith(\".xlsx\"):\n",
    "    df = pd.read_excel(data_path)\n",
    "else:\n",
    "    for enc in [\"utf-8\",\"utf-8-sig\",\"cp1252\",\"latin-1\"]:\n",
    "        try:\n",
    "            df = pd.read_csv(data_path, encoding=enc)\n",
    "            break\n",
    "        except UnicodeDecodeError:\n",
    "            continue\n",
    "print(\"Rows x Cols:\", df.shape)\n",
    "df.head()"
   ]
  },
  {
   "cell_type": "markdown",
   "id": "07528dac",
   "metadata": {},
   "source": [
    "## 2) Import project modules"
   ]
  },
  {
   "cell_type": "code",
   "execution_count": null,
   "id": "16e69074",
   "metadata": {},
   "outputs": [],
   "source": [
    "from pathlib import Path\n",
    "import sys\n",
    "sys.path.append(str(Path(\"src\").resolve()))\n",
    "sys.path.append(str(Path(\"..\").resolve()))\n",
    "\n",
    "from src.sentiment_pipeline import run_and_save as run_sentiment\n",
    "from src.eda import run_and_save as run_eda\n",
    "from src.monthly_scoring import run_and_save as run_monthly\n",
    "from src.ranking import run_and_save as run_rank\n",
    "from src.flight_risk import run_and_save as run_risk\n",
    "from src.trend_regression import run_and_save as run_trend\n",
    "try:\n",
    "    from src.ml_sentiment import train as train_ml, predict as predict_ml\n",
    "    HAS_ML = True\n",
    "except Exception as e:\n",
    "    print(\"ML module not available:\", e)\n",
    "    HAS_ML = False\n"
   ]
  },
  {
   "cell_type": "markdown",
   "id": "0e508328",
   "metadata": {},
   "source": [
    "## 3) Run pipeline steps"
   ]
  },
  {
   "cell_type": "code",
   "execution_count": null,
   "id": "4326fa36",
   "metadata": {},
   "outputs": [],
   "source": [
    "sent_df, cols = run_sentiment()\n",
    "sent_df.head()"
   ]
  },
  {
   "cell_type": "code",
   "execution_count": null,
   "id": "baaab599",
   "metadata": {},
   "outputs": [],
   "source": [
    "_ = run_eda()\n",
    "print(\"EDA charts saved to outputs/ and visualizations/\")"
   ]
  },
  {
   "cell_type": "code",
   "execution_count": null,
   "id": "b7e48e13",
   "metadata": {},
   "outputs": [],
   "source": [
    "monthly, _ = run_monthly()\n",
    "monthly.head()"
   ]
  },
  {
   "cell_type": "code",
   "execution_count": null,
   "id": "649cda59",
   "metadata": {},
   "outputs": [],
   "source": [
    "ranking, _ = run_rank()\n",
    "ranking.head()"
   ]
  },
  {
   "cell_type": "code",
   "execution_count": null,
   "id": "9844eff0",
   "metadata": {},
   "outputs": [],
   "source": [
    "risk, _ = run_risk()\n",
    "risk.head()"
   ]
  },
  {
   "cell_type": "code",
   "execution_count": null,
   "id": "d4eca145",
   "metadata": {},
   "outputs": [],
   "source": [
    "trend, monthly_for_trend = run_trend()\n",
    "trend"
   ]
  },
  {
   "cell_type": "markdown",
   "id": "359de925",
   "metadata": {},
   "source": [
    "## 4) Optional ML sentiment (sklearn)"
   ]
  },
  {
   "cell_type": "code",
   "execution_count": null,
   "id": "1dff1574",
   "metadata": {},
   "outputs": [],
   "source": [
    "if HAS_ML:\n",
    "    ml_report = train_ml()\n",
    "    ml_report\n",
    "else:\n",
    "    print(\"Skip — ml_sentiment module not found.\")"
   ]
  },
  {
   "cell_type": "code",
   "execution_count": null,
   "id": "abb7cf12",
   "metadata": {},
   "outputs": [],
   "source": [
    "if HAS_ML:\n",
    "    ml_out, _ = predict_ml()\n",
    "    ml_out.head()"
   ]
  },
  {
   "cell_type": "markdown",
   "id": "b70b9fc3",
   "metadata": {},
   "source": [
    "## 5) Quick interactive exploration"
   ]
  },
  {
   "cell_type": "code",
   "execution_count": null,
   "id": "fe4be126",
   "metadata": {},
   "outputs": [],
   "source": [
    "import matplotlib.pyplot as plt\n",
    "import ipywidgets as W\n",
    "from IPython.display import display\n",
    "\n",
    "df = sent_df.copy()\n",
    "if \"date\" in df.columns:\n",
    "    df[\"date\"] = pd.to_datetime(df[\"date\"], errors=\"coerce\")\n",
    "    df[\"year_month\"] = df[\"date\"].dt.to_period(\"M\").astype(str)\n",
    "\n",
    "btns = W.ToggleButtons(options=[\"Label Distribution\",\"Compound Histogram\",\"Monthly Avg\"], value=\"Label Distribution\")\n",
    "out = W.Output()\n",
    "\n",
    "def draw(view):\n",
    "    out.clear_output()\n",
    "    with out:\n",
    "        if view == \"Label Distribution\":\n",
    "            df[\"sentiment_label\"].value_counts().sort_index().plot(kind=\"bar\", title=view)\n",
    "            plt.tight_layout(); plt.show()\n",
    "        elif view == \"Compound Histogram\":\n",
    "            df[\"compound\"].plot(kind=\"hist\", bins=30, title=view)\n",
    "            plt.tight_layout(); plt.show()\n",
    "        else:\n",
    "            if \"year_month\" in df.columns:\n",
    "                df.groupby(\"year_month\")[\"compound\"].mean().plot(marker=\"o\", title=view)\n",
    "                plt.tight_layout(); plt.show()\n",
    "            else:\n",
    "                print(\"No date column available.\")\n",
    "\n",
    "draw(btns.value)\n",
    "btns.observe(lambda ch: draw(ch[\"new\"]), names=\"value\")\n",
    "display(btns, out)"
   ]
  }
 ],
 "metadata": {
  "kernelspec": {
   "display_name": "Python (.venv greentree)",
   "language": "python",
   "name": "greentree_env"
  },
  "language_info": {
   "codemirror_mode": {
    "name": "ipython",
    "version": 3
   },
   "file_extension": ".py",
   "mimetype": "text/x-python",
   "name": "python",
   "nbconvert_exporter": "python",
   "pygments_lexer": "ipython3",
   "version": "3.13.2"
  }
 },
 "nbformat": 4,
 "nbformat_minor": 5
}
