{
 "cells": [
  {
   "cell_type": "code",
   "execution_count": null,
   "id": "72881054-3e87-4218-894c-48fe44675dbb",
   "metadata": {},
   "outputs": [],
   "source": []
  }
 ],
 "metadata": {
  "kernelspec": {
   "display_name": "",
   "name": ""
  },
  "language_info": {
   "name": ""
  }
 },
 "nbformat": 4,
 "nbformat_minor": 5
}
