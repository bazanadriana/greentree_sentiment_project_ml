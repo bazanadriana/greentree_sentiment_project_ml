{
 "cells": [
  {
   "cell_type": "code",
   "execution_count": 2,
   "id": "e6cf79c1-fd30-4619-a73c-a6dce8b8a0ba",
   "metadata": {},
   "outputs": [
    {
     "name": "stdout",
     "output_type": "stream",
     "text": [
      "Loading file: data/test.xlsx\n"
     ]
    },
    {
     "data": {
      "text/html": [
       "<div>\n",
       "<style scoped>\n",
       "    .dataframe tbody tr th:only-of-type {\n",
       "        vertical-align: middle;\n",
       "    }\n",
       "\n",
       "    .dataframe tbody tr th {\n",
       "        vertical-align: top;\n",
       "    }\n",
       "\n",
       "    .dataframe thead th {\n",
       "        text-align: right;\n",
       "    }\n",
       "</style>\n",
       "<table border=\"1\" class=\"dataframe\">\n",
       "  <thead>\n",
       "    <tr style=\"text-align: right;\">\n",
       "      <th></th>\n",
       "      <th>Subject</th>\n",
       "      <th>body</th>\n",
       "      <th>date</th>\n",
       "      <th>from</th>\n",
       "    </tr>\n",
       "  </thead>\n",
       "  <tbody>\n",
       "    <tr>\n",
       "      <th>0</th>\n",
       "      <td>EnronOptions Update!</td>\n",
       "      <td>EnronOptions Announcement\\n\\n\\nWe have updated...</td>\n",
       "      <td>2010-05-10</td>\n",
       "      <td>sally.beck@enron.com</td>\n",
       "    </tr>\n",
       "    <tr>\n",
       "      <th>1</th>\n",
       "      <td>(No Subject)</td>\n",
       "      <td>Marc,\\n\\nUnfortunately, today is not going to ...</td>\n",
       "      <td>2010-07-29</td>\n",
       "      <td>eric.bass@enron.com</td>\n",
       "    </tr>\n",
       "    <tr>\n",
       "      <th>2</th>\n",
       "      <td>Phone Screen  Interview - Shannon L. Burnham</td>\n",
       "      <td>When: Wednesday, June 06, 2001 10:00 AM-11:00 ...</td>\n",
       "      <td>2011-07-25</td>\n",
       "      <td>sally.beck@enron.com</td>\n",
       "    </tr>\n",
       "    <tr>\n",
       "      <th>3</th>\n",
       "      <td>RE: My new work email</td>\n",
       "      <td>we were thinking papasitos (we can meet somewh...</td>\n",
       "      <td>2010-03-25</td>\n",
       "      <td>johnny.palmer@enron.com</td>\n",
       "    </tr>\n",
       "    <tr>\n",
       "      <th>4</th>\n",
       "      <td>Bet</td>\n",
       "      <td>Since you never gave me the $20 for the last t...</td>\n",
       "      <td>2011-05-21</td>\n",
       "      <td>lydia.delgado@enron.com</td>\n",
       "    </tr>\n",
       "  </tbody>\n",
       "</table>\n",
       "</div>"
      ],
      "text/plain": [
       "                                        Subject  \\\n",
       "0                          EnronOptions Update!   \n",
       "1                                  (No Subject)   \n",
       "2  Phone Screen  Interview - Shannon L. Burnham   \n",
       "3                         RE: My new work email   \n",
       "4                                           Bet   \n",
       "\n",
       "                                                body       date  \\\n",
       "0  EnronOptions Announcement\\n\\n\\nWe have updated... 2010-05-10   \n",
       "1  Marc,\\n\\nUnfortunately, today is not going to ... 2010-07-29   \n",
       "2  When: Wednesday, June 06, 2001 10:00 AM-11:00 ... 2011-07-25   \n",
       "3  we were thinking papasitos (we can meet somewh... 2010-03-25   \n",
       "4  Since you never gave me the $20 for the last t... 2011-05-21   \n",
       "\n",
       "                      from  \n",
       "0     sally.beck@enron.com  \n",
       "1      eric.bass@enron.com  \n",
       "2     sally.beck@enron.com  \n",
       "3  johnny.palmer@enron.com  \n",
       "4  lydia.delgado@enron.com  "
      ]
     },
     "execution_count": 2,
     "metadata": {},
     "output_type": "execute_result"
    }
   ],
   "source": [
    "import os\n",
    "import pandas as pd\n",
    "from dotenv import load_dotenv\n",
    "\n",
    "# Load .env file\n",
    "load_dotenv()\n",
    "\n",
    "# Get path and columns\n",
    "data_path = os.getenv(\"DATA_PATH\")\n",
    "print(f\"Loading file: {data_path}\")\n",
    "\n",
    "# Read Excel or CSV automatically\n",
    "if data_path.lower().endswith(\".xlsx\"):\n",
    "    df = pd.read_excel(data_path)\n",
    "else:\n",
    "    df = pd.read_csv(data_path)\n",
    "\n",
    "# Show first few rows\n",
    "df.head()\n"
   ]
  },
  {
   "cell_type": "code",
   "execution_count": null,
   "id": "3069484f-6fef-4fd1-984e-4c21653c31f5",
   "metadata": {},
   "outputs": [],
   "source": []
  }
 ],
 "metadata": {
  "kernelspec": {
   "display_name": "Python (.venv greentree)",
   "language": "python",
   "name": "greentree_env"
  },
  "language_info": {
   "codemirror_mode": {
    "name": "ipython",
    "version": 3
   },
   "file_extension": ".py",
   "mimetype": "text/x-python",
   "name": "python",
   "nbconvert_exporter": "python",
   "pygments_lexer": "ipython3",
   "version": "3.13.2"
  }
 },
 "nbformat": 4,
 "nbformat_minor": 5
}
